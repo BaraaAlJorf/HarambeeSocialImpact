{
 "cells": [
  {
   "cell_type": "markdown",
   "metadata": {},
   "source": [
    "# Data Science Project \n",
    "## Does Optimism affect Employability\n",
    "Below we performed three seperate tests to examine the relation of optimism to other interesting variables namely: gender, employability, and leadership positions"
   ]
  },
  {
   "cell_type": "markdown",
   "metadata": {},
   "source": [
    "### Data Cleaning"
   ]
  },
  {
   "cell_type": "code",
   "execution_count": 1,
   "metadata": {},
   "outputs": [],
   "source": [
    "import pandas as pd\n",
    "import pandas as pd\n",
    "import numpy as np\n",
    "\n",
    "import matplotlib.pyplot as plt\n",
    "import matplotlib.image as mpimg\n",
    "\n",
    "#This is so that you don't see a bunch of code 'warnings' (things that you could change but don't have to right now)\n",
    "import warnings\n",
    "warnings.filterwarnings(\"ignore\")\n",
    "\n",
    "import seaborn as sns\n",
    "general_data =pd.read_csv('Harambee/teaching_training_data.csv')\n",
    "opt_scores =pd.read_csv('Harambee/teaching_training_data_opt.csv', index_col=0)\n",
    "general_data1 = general_data.merge(opt_scores,on='unid')\n",
    "columns_to_drop = ['Unnamed: 0','company_size','province','survey_date_month', 'job_start_date', 'job_leave_date','givemoney_yes']\n",
    "cleandata=general_data1.drop(columns_to_drop,axis=1)\n",
    "cleanerdata=cleandata.dropna(subset=['opt_score'])\n",
    "duplicate_rows = cleanerdata[cleanerdata.duplicated()]\n",
    "cleanestdata=cleanerdata.drop_duplicates(subset=['unid'], keep='last', inplace=False)\n",
    "newcleanestdata=cleanestdata\n",
    "newcleanestdata.loc[newcleanestdata['opt_score']<0,'opt_score']=0"
   ]
  },
  {
   "cell_type": "markdown",
   "metadata": {},
   "source": [
    "### Correrlations between Gender and Optimism"
   ]
  },
  {
   "cell_type": "code",
   "execution_count": 4,
   "metadata": {},
   "outputs": [
    {
     "name": "stdout",
     "output_type": "stream",
     "text": [
      "ddof:  30853.0\n",
      "tstat:  4.622099230308913\n",
      "pvalue:  1.9070640127442703e-06\n"
     ]
    }
   ],
   "source": [
    "#Optimism scores for each gender\n",
    "\n",
    "optimism_scores = newcleanestdata[newcleanestdata.opt_score.notnull()]\n",
    "\n",
    "optimism_scores_men = optimism_scores[optimism_scores.gender=='Male'].opt_score\n",
    "optimism_scores_women = optimism_scores[optimism_scores.gender=='Female'].opt_score\n",
    "from statsmodels.stats.weightstats import ttest_ind\n",
    "from scipy import stats\n",
    "#Running test to see if female average score is larger than male average usage to a point that it is statistically significant\n",
    "\n",
    "tstat, pvalue, ddof = ttest_ind(\n",
    "                                optimism_scores_women,\n",
    "                                optimism_scores_men,\n",
    "                                alternative=\"larger\", #1 sided test\n",
    "                                usevar=\"pooled\"\n",
    ")\n",
    "print(\"ddof: \",ddof)\n",
    "print(\"tstat: \",tstat)\n",
    "print(\"pvalue: \", pvalue)"
   ]
  },
  {
   "cell_type": "code",
   "execution_count": 6,
   "metadata": {},
   "outputs": [
    {
     "data": {
      "text/plain": [
       "<seaborn.axisgrid.FacetGrid at 0x2af48037880>"
      ]
     },
     "execution_count": 6,
     "metadata": {},
     "output_type": "execute_result"
    },
    {
     "data": {
      "image/png": "[encoded data removed]",
      "text/plain": [
       "<Figure size 360x360 with 1 Axes>"
      ]
     },
     "metadata": {
      "needs_background": "light"
     },
     "output_type": "display_data"
    }
   ],
   "source": [
    "sns.catplot(x=\"gender\", y=\"opt_score\", data=newcleanestdata, kind=\"bar\")"
   ]
  },
  {
   "cell_type": "code",
   "execution_count": 7,
   "metadata": {},
   "outputs": [
    {
     "data": {
      "text/plain": [
       "count    19466.000000\n",
       "mean         5.511353\n",
       "std          2.990317\n",
       "min          0.000000\n",
       "25%          3.000000\n",
       "50%          5.000000\n",
       "75%          8.000000\n",
       "max         17.000000\n",
       "Name: opt_score, dtype: float64"
      ]
     },
     "execution_count": 7,
     "metadata": {},
     "output_type": "execute_result"
    }
   ],
   "source": [
    "optimism_scores_women.describe()"
   ]
  },
  {
   "cell_type": "code",
   "execution_count": 8,
   "metadata": {},
   "outputs": [
    {
     "data": {
      "text/plain": [
       "count    11389.000000\n",
       "mean         5.348319\n",
       "std          2.989227\n",
       "min          0.000000\n",
       "25%          3.000000\n",
       "50%          5.000000\n",
       "75%          7.000000\n",
       "max         17.000000\n",
       "Name: opt_score, dtype: float64"
      ]
     },
     "execution_count": 8,
     "metadata": {},
     "output_type": "execute_result"
    }
   ],
   "source": [
    "optimism_scores_men.describe()"
   ]
  },
  {
   "cell_type": "markdown",
   "metadata": {},
   "source": [
    "### Conclusions about Gender: \n",
    "Originally, we thought no trend existed but after removing the negative values(and treating them as pessimism) we discovered that Women were more optimistic"
   ]
  },
  {
   "cell_type": "markdown",
   "metadata": {},
   "source": [
    "### Correrlations between Employability and Optimism"
   ]
  },
  {
   "cell_type": "code",
   "execution_count": 10,
   "metadata": {},
   "outputs": [
    {
     "name": "stdout",
     "output_type": "stream",
     "text": [
      "ddof:  30853.0\n",
      "tstat:  -1.8356794001373649\n",
      "pvalue:  0.9667926475416337\n"
     ]
    }
   ],
   "source": [
    "#Optimism scores for people who are working and those who are not\n",
    "\n",
    "optimism_scores_working = optimism_scores[optimism_scores.working==True].opt_score\n",
    "optimism_scores_notworking = optimism_scores[optimism_scores.working==False].opt_score\n",
    "from statsmodels.stats.weightstats import ttest_ind\n",
    "from scipy import stats\n",
    "#Running test to see if female average score is larger than male average usage to a point that it is statistically significant\n",
    "\n",
    "tstat, pvalue, ddof = ttest_ind(\n",
    "                                optimism_scores_working,\n",
    "                                optimism_scores_notworking,\n",
    "                                alternative=\"larger\", #1 sided test\n",
    "                                usevar=\"pooled\"\n",
    ")\n",
    "print(\"ddof: \",ddof)\n",
    "print(\"tstat: \",tstat)\n",
    "print(\"pvalue: \", pvalue)"
   ]
  },
  {
   "cell_type": "code",
   "execution_count": 11,
   "metadata": {},
   "outputs": [
    {
     "data": {
      "text/plain": [
       "<seaborn.axisgrid.FacetGrid at 0x2af48037730>"
      ]
     },
     "execution_count": 11,
     "metadata": {},
     "output_type": "execute_result"
    },
    {
     "data": {
      "image/png": "[encoded data removed]",
      "text/plain": [
       "<Figure size 360x360 with 1 Axes>"
      ]
     },
     "metadata": {
      "needs_background": "light"
     },
     "output_type": "display_data"
    }
   ],
   "source": [
    "sns.catplot(x=\"working\", y=\"opt_score\", data=newcleanestdata, kind=\"bar\")"
   ]
  },
  {
   "cell_type": "code",
   "execution_count": 12,
   "metadata": {},
   "outputs": [
    {
     "data": {
      "text/plain": [
       "count    7989.000000\n",
       "mean        5.398298\n",
       "std         2.943437\n",
       "min         0.000000\n",
       "25%         3.000000\n",
       "50%         5.000000\n",
       "75%         7.000000\n",
       "max        16.000000\n",
       "Name: opt_score, dtype: float64"
      ]
     },
     "execution_count": 12,
     "metadata": {},
     "output_type": "execute_result"
    }
   ],
   "source": [
    "optimism_scores_working.describe()"
   ]
  },
  {
   "cell_type": "code",
   "execution_count": 13,
   "metadata": {},
   "outputs": [
    {
     "data": {
      "text/plain": [
       "count    22866.000000\n",
       "mean         5.469649\n",
       "std          3.007153\n",
       "min          0.000000\n",
       "25%          3.000000\n",
       "50%          5.000000\n",
       "75%          8.000000\n",
       "max         17.000000\n",
       "Name: opt_score, dtype: float64"
      ]
     },
     "execution_count": 13,
     "metadata": {},
     "output_type": "execute_result"
    }
   ],
   "source": [
    "optimism_scores_notworking.describe()"
   ]
  },
  {
   "cell_type": "markdown",
   "metadata": {},
   "source": [
    "### Conclusions about Employability and Optimism\n",
    "\n",
    "Interestingly, we found no trends between employability and optimism, suggesting that people's optimism is independent and has no effect on whether or not they land up in a job"
   ]
  },
  {
   "cell_type": "markdown",
   "metadata": {},
   "source": [
    "### Correrlations between Leadership and Optimism"
   ]
  },
  {
   "cell_type": "code",
   "execution_count": 14,
   "metadata": {},
   "outputs": [
    {
     "name": "stdout",
     "output_type": "stream",
     "text": [
      "ddof:  25597.0\n",
      "tstat:  5.279056413285643\n",
      "pvalue:  6.54545157581107e-08\n"
     ]
    }
   ],
   "source": [
    "newercleanestdata=newcleanestdata.dropna(subset=['leadershiprole'])\n",
    "\n",
    "#Optimism scores for people who did and who did not participate in leadership roles\n",
    "\n",
    "optimism_scores = newercleanestdata[newercleanestdata.opt_score.notnull()]\n",
    "\n",
    "optimism_scores_leader = optimism_scores[optimism_scores.leadershiprole=='Yes'].opt_score\n",
    "optimism_scores_notleader = optimism_scores[optimism_scores.leadershiprole=='No'].opt_score\n",
    "from statsmodels.stats.weightstats import ttest_ind\n",
    "from scipy import stats\n",
    "#Running test to see if female average score is larger than male average usage to a point that it is statistically significant\n",
    "\n",
    "tstat, pvalue, ddof = ttest_ind(\n",
    "                                optimism_scores_leader,\n",
    "                                optimism_scores_notleader,\n",
    "                                alternative=\"larger\", #1 sided test\n",
    "                                usevar=\"pooled\"\n",
    ")\n",
    "print(\"ddof: \",ddof)\n",
    "print(\"tstat: \",tstat)\n",
    "print(\"pvalue: \", pvalue)"
   ]
  },
  {
   "cell_type": "code",
   "execution_count": 15,
   "metadata": {},
   "outputs": [
    {
     "data": {
      "text/plain": [
       "<seaborn.axisgrid.FacetGrid at 0x2af4f96f970>"
      ]
     },
     "execution_count": 15,
     "metadata": {},
     "output_type": "execute_result"
    },
    {
     "data": {
      "image/png": "[encoded data removed]",
      "text/plain": [
       "<Figure size 360x360 with 1 Axes>"
      ]
     },
     "metadata": {
      "needs_background": "light"
     },
     "output_type": "display_data"
    }
   ],
   "source": [
    "sns.catplot(x=\"leadershiprole\", y=\"opt_score\", data=newercleanestdata, kind=\"bar\")"
   ]
  },
  {
   "cell_type": "code",
   "execution_count": 16,
   "metadata": {},
   "outputs": [
    {
     "data": {
      "text/plain": [
       "count    9862.000000\n",
       "mean        5.577469\n",
       "std         2.989864\n",
       "min         0.000000\n",
       "25%         3.000000\n",
       "50%         6.000000\n",
       "75%         8.000000\n",
       "max        17.000000\n",
       "Name: opt_score, dtype: float64"
      ]
     },
     "execution_count": 16,
     "metadata": {},
     "output_type": "execute_result"
    }
   ],
   "source": [
    "optimism_scores_leader.describe()"
   ]
  },
  {
   "cell_type": "code",
   "execution_count": 18,
   "metadata": {},
   "outputs": [
    {
     "data": {
      "text/plain": [
       "count    15737.000000\n",
       "mean         5.374595\n",
       "std          2.993795\n",
       "min          0.000000\n",
       "25%          3.000000\n",
       "50%          5.000000\n",
       "75%          7.000000\n",
       "max         17.000000\n",
       "Name: opt_score, dtype: float64"
      ]
     },
     "execution_count": 18,
     "metadata": {},
     "output_type": "execute_result"
    }
   ],
   "source": [
    "optimism_scores_notleader.describe()"
   ]
  },
  {
   "cell_type": "markdown",
   "metadata": {},
   "source": [
    "### Conclusions about Leadership and Optimism\n",
    "Possibly the most significant of our results, we found out that people who work in leadership positions are more optimistic\n"
   ]
  },
  {
   "cell_type": "markdown",
   "metadata": {},
   "source": [
    "# Same Data without Removing Negative Values"
   ]
  },
  {
   "cell_type": "code",
   "execution_count": 19,
   "metadata": {},
   "outputs": [
    {
     "name": "stdout",
     "output_type": "stream",
     "text": [
      "gender ddof:  30853.0\n",
      "gender tstat:  4.7048585315459945\n",
      "gender pvalue:  1.2757108768487782e-06\n",
      "working ddof:  30853.0\n",
      "working tstat:  -1.4238536416666352\n",
      "working pvalue:  0.9227505216492622\n",
      "leadership ddof:  25597.0\n",
      "leadership tstat:  5.346848389384576\n",
      "leadership pvalue:  4.513267788456752e-08\n"
     ]
    }
   ],
   "source": [
    "import pandas as pd\n",
    "import pandas as pd\n",
    "import numpy as np\n",
    "\n",
    "import matplotlib.pyplot as plt\n",
    "import matplotlib.image as mpimg\n",
    "\n",
    "#This is so that you don't see a bunch of code 'warnings' (things that you could change but don't have to right now)\n",
    "import warnings\n",
    "warnings.filterwarnings(\"ignore\")\n",
    "\n",
    "import seaborn as sns\n",
    "general_data =pd.read_csv('Harambee/teaching_training_data.csv')\n",
    "opt_scores =pd.read_csv('Harambee/teaching_training_data_opt.csv', index_col=0)\n",
    "general_data1 = general_data.merge(opt_scores,on='unid')\n",
    "columns_to_drop = ['Unnamed: 0','company_size','province','survey_date_month', 'job_start_date', 'job_leave_date','givemoney_yes']\n",
    "cleandata=general_data1.drop(columns_to_drop,axis=1)\n",
    "cleanerdata=cleandata.dropna(subset=['opt_score'])\n",
    "duplicate_rows = cleanerdata[cleanerdata.duplicated()]\n",
    "cleanestdata=cleanerdata.drop_duplicates(subset=['unid'], keep='last', inplace=False)\n",
    "newcleanestdata=cleanestdata\n",
    "#Optimism scores for each gender\n",
    "\n",
    "optimism_scores = newcleanestdata[newcleanestdata.opt_score.notnull()]\n",
    "\n",
    "optimism_scores_men = optimism_scores[optimism_scores.gender=='Male'].opt_score\n",
    "optimism_scores_women = optimism_scores[optimism_scores.gender=='Female'].opt_score\n",
    "from statsmodels.stats.weightstats import ttest_ind\n",
    "from scipy import stats\n",
    "#Running test to see if female average score is larger than male average usage to a point that it is statistically significant\n",
    "\n",
    "tstat, pvalue, ddof = ttest_ind(\n",
    "                                optimism_scores_women,\n",
    "                                optimism_scores_men,\n",
    "                                alternative=\"larger\", #1 sided test\n",
    "                                usevar=\"pooled\"\n",
    ")\n",
    "print(\"gender ddof: \",ddof)\n",
    "print(\"gender tstat: \",tstat)\n",
    "print(\"gender pvalue: \", pvalue)\n",
    "#Optimism scores for people who are working and those who are not\n",
    "\n",
    "optimism_scores_working = optimism_scores[optimism_scores.working==True].opt_score\n",
    "optimism_scores_notworking = optimism_scores[optimism_scores.working==False].opt_score\n",
    "from statsmodels.stats.weightstats import ttest_ind\n",
    "from scipy import stats\n",
    "#Running test to see if female average score is larger than male average usage to a point that it is statistically significant\n",
    "\n",
    "tstat, pvalue, ddof = ttest_ind(\n",
    "                                optimism_scores_working,\n",
    "                                optimism_scores_notworking,\n",
    "                                alternative=\"larger\", #1 sided test\n",
    "                                usevar=\"pooled\"\n",
    ")\n",
    "print(\"working ddof: \",ddof)\n",
    "print(\"working tstat: \",tstat)\n",
    "print(\"working pvalue: \", pvalue)\n",
    "newercleanestdata=newcleanestdata.dropna(subset=['leadershiprole'])\n",
    "\n",
    "#Optimism scores for people who did and who did not participate in leadership roles\n",
    "\n",
    "optimism_scores = newercleanestdata[newercleanestdata.opt_score.notnull()]\n",
    "\n",
    "optimism_scores_leader = optimism_scores[optimism_scores.leadershiprole=='Yes'].opt_score\n",
    "optimism_scores_notleader = optimism_scores[optimism_scores.leadershiprole=='No'].opt_score\n",
    "from statsmodels.stats.weightstats import ttest_ind\n",
    "from scipy import stats\n",
    "#Running test to see if female average score is larger than male average usage to a point that it is statistically significant\n",
    "\n",
    "tstat, pvalue, ddof = ttest_ind(\n",
    "                                optimism_scores_leader,\n",
    "                                optimism_scores_notleader,\n",
    "                                alternative=\"larger\", #1 sided test\n",
    "                                usevar=\"pooled\"\n",
    ")\n",
    "print(\"leadership ddof: \",ddof)\n",
    "print(\"leadership tstat: \",tstat)\n",
    "print(\"leadership pvalue: \", pvalue)"
   ]
  }
 ],
 "metadata": {
  "kernelspec": {
   "display_name": "Python 3",
   "language": "python",
   "name": "python3"
  },
  "language_info": {
   "codemirror_mode": {
    "name": "ipython",
    "version": 3
   },
   "file_extension": ".py",
   "mimetype": "text/x-python",
   "name": "python",
   "nbconvert_exporter": "python",
   "pygments_lexer": "ipython3",
   "version": "3.8.5"
  }
 },
 "nbformat": 4,
 "nbformat_minor": 4
}
